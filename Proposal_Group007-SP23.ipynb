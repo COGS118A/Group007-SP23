{
 "cells": [
  {
   "cell_type": "markdown",
   "metadata": {},
   "source": [
    "# COGS 118A- Project Proposal"
   ]
  },
  {
   "cell_type": "markdown",
   "metadata": {},
   "source": [
    "# Team\n",
    "\n",
    "- Xiaoxuan Zhang\n",
    "- Yunxiang Chi\n",
    "- Xiaoyan He\n",
    "- Jiayi Dong\n",
    "- Elaine (Yilin) Ge"
   ]
  },
  {
   "cell_type": "markdown",
   "metadata": {},
   "source": [
    "# Abstract \n",
    "\n",
    "The project is designed to be a Music Genre Classification Tool.\n",
    "\n",
    "This study aims to develop an advanced music genre classification system with the objective of enhancing personalized recommendation mechanisms and user experience. The comprehensive classification model is capable of accommodating a wide spectrum of music genres, such as rock, pop, jazz, hip-hop, and electronic, among others. The dataset comprises audio recordings of songs, evaluated through an array of attributes such as spectral information, rhythmic patterns, and harmonic characteristics, along with mean and variance of multiple features in CSV files. These extracted features serve as input for our machine learning models. Employing algorithms like K-Nearest Neighbors (KNN), Support Vector Machines (SVM), and Neural Networks, the research exploits a heterogeneous dataset of labeled music samples spanning various genres. The efficacy of the proposed music genre classification system is gauged through numerous evaluation metrics, including accuracy, precision, recall, F1 score, and confusion matrix. These quantitative assessments shed light on the models' classification performance and their capability to accurately predict music genres, enabling the selection of the most efficient model. By demonstrating high accuracy and robustness, our tool exhibits its effectiveness and dependability, promising significant improvements in music recommendation systems."
   ]
  },
  {
   "cell_type": "markdown",
   "metadata": {},
   "source": [
    "# Background\n",
    "Our project is focused on developing a state-of-the-art music genre classification system that optimizes the way music platforms and music companies design their personalized recommendation systems to improve overall music listening experience and user experience through a more precise way of avigating and discovering music. \n",
    "\n",
    "To achieve this, we employ advanced machine learning algorithms and data analysis techniques, leveraging a diverse dataset of labeled music samples spanning different genres with various features. We will also compare among different algoritms' performances to ensure the system's accuracy, robustness, and ability to generalize across a wide range of music styles."
   ]
  },
  {
   "cell_type": "markdown",
   "metadata": {},
   "source": [
    "# Problem Statement\n",
    "The problem our project seeks to address is the accurate categorization of music tracks into their respective genres. Precise music genre classification is a complex and multifaceted challenge due to the inherent subjectivity involved in music perception and the overlapping elements present across various genres. Yet, accurate genre classification is paramount to improving user experience on music platforms, as it plays a crucial role in personalized music recommendation systems.\n",
    "\n",
    "Our project tackles this problem through the lens of supervised machine learning. With a dataset of songs with labeled genres and an array of song features, we aim to train a model that can accurately predict the genre of a song, even with unseen data. Our goal is to devise a machine learning model that optimizes precision and generalization while minimizing overfitting."
   ]
  },
  {
   "cell_type": "markdown",
   "metadata": {},
   "source": [
    "# Data\n",
    "\n",
    "The dataset we are using is GTZAN Dataset - Music Genre Classification <a name=\"gtzan\"></a>[<sup>[1]</sup>](#gtzannote)\n",
    "\n",
    "- https://www.kaggle.com/datasets/andradaolteanu/gtzan-dataset-music-genre-classification\n",
    "- Content:\n",
    "    - original soundfile: Collection of 10 genres with 100 30-seconds audio files each.\n",
    "    - images: Power Spectra of each audio files in image formats. \n",
    "    - 2 csv: Containing multiple features of all the songs.\n",
    "\n",
    "For our model, we design to use both csv files, which have the following 10 variables (with both mean and variance) as well as 1000 observations:\n",
    "- pitch (chroma in the dataset)\n",
    "- RMS in audio signals\n",
    "- spectral centroid\n",
    "- spectral bandwidth\n",
    "- roll-off frequency\n",
    "- zero crossing rate\n",
    "- harmony\n",
    "- perceptron\n",
    "- tempo\n",
    "- 20 groups of Mel Frequency Cepstral Coefficients\n",
    "\n",
    "\n",
    "special handling, transformations, cleaning will be decided and listed here later.\n",
    " \n",
    " \n",
    "\n",
    "(We're aiming to find an extra dataset that can be combined with GTZAN Dataset)"
   ]
  },
  {
   "cell_type": "markdown",
   "metadata": {},
   "source": [
    "# Proposed Solution\n",
    "In general, the solution will be the following in steps:\n",
    "1. Data Processing: We will begin by pre-processing our dataset. This involves handling missing data, dealing with outliers, and possibly transforming variables as necessary to make them appropraite to use.\n",
    "2. Feature Selection: We will choose chroma_stft, rms, spectral_centroid, spectral_bandwidth, roll_off, zero_crossing_rate, harmony, perceptr, tempo, mfcc(1-20) to determine the genre of songs. Since we can't get those data in every frame or seconds, so we just get their mean and variance for future usage.\n",
    "3. Model Training: We will utilize KNN, SVM, and Neural Networks (if possible) to train our models, adjusting parameters to find the most optimal configuration for each model.\n",
    "4. Model Evaluation and Selection: We will evaluate each model's performance using various evaluation metrics such as accuracy, precision, recall, F1 score, and confusion matrix. The model that performs the best across all metrics will be selected as our final model.\n",
    "5. Testing on Unseen Data: Finally, we will test our selected model on unseen data to assess its ability to generalize and make accurate predictions on new data to ensure that it doesn't overfit.\n",
    "\n",
    "Then, to be specific, we will talk about them in details:\n",
    "1. For algorithm of multi-class classification, we will use K-Nearest Neighbors (KNN), Support Vector Machines (SVM), and Neural Networks (If possible). We believe these methods are particularly suitable for our task due to their ability to handle high-dimensional data and flexibility in model complexity.\n",
    "2. The machine learning algorithms will be trained on a comprehensive dataset comprising multiple music genre samples, where each song is represented by an array of extracted audio features. The aim is to create a model that, given these features of a song, can predict its genre with high accuracy.\n",
    "3. For the library we may wanna use, we plan to implement our solution using Python and relevant libraries such as Pandas for data preprocessing, Scikit-learn for machine learning algorithms, and Matplotlib for data visualization.\n",
    "4. For benchmark comparison, we will use a simple classification model, like Logistic Regression. The performance of our machine learning models will be used to be against this benchmark model to assess their efficiency and accuracy."
   ]
  },
  {
   "cell_type": "markdown",
   "metadata": {},
   "source": [
    "# Evaluation Metrics\n",
    "\n",
    "Propose at least one evaluation metric that can be used to quantify the performance of both the benchmark model and the solution model. The evaluation metric(s) you propose should be appropriate given the context of the data, the problem statement, and the intended solution. Describe how the evaluation metric(s) are derived and provide an example of their mathematical representations (if applicable). Complex evaluation metrics should be clearly defined and quantifiable (can be expressed in mathematical or logical terms)."
   ]
  },
  {
   "cell_type": "markdown",
   "metadata": {},
   "source": [
    "Since this is a classification problem, we will use the following metrics to evaluate both our benchmark model and solution model:\n",
    "- Accuracy (mathematical representation: (TP + TN) / (TP + TN + FP + FN))\n",
    "- Precision (mathematical representation: TP / (TP + FP))\n",
    "- Recall (mathematical representation: TP / (TP + FN))\n",
    "- F1 Score (mathematical representation: 2 * (Precision * Recall) / (Precision + Recall))\n",
    "- Confusion Matrix (mathematical representation: [[TP, FP], [FN, TN]])\n",
    "\n",
    "If applicable (if using deep learning model), we may also try to use the cross entropy loss function to evaluate our model and see how our model improves its performance for each learning iteration.\n",
    "\n",
    "The mathematical representation of cross entropy loss function is as follows: \n",
    "$ -\\sum_{i=1}^{n} y_i \\log(p_i) $\n",
    "\n",
    "where $y_i$ is the true label and $p_i$ is the predicted probability of the label.\n",
    "\n"
   ]
  },
  {
   "cell_type": "markdown",
   "metadata": {},
   "source": [
    "# Ethics & Privacy"
   ]
  },
  {
   "cell_type": "markdown",
   "metadata": {},
   "source": [
    "The dataset we get is a free dataset named GTZAN, the MNIST of sounds, from Kaggle which should not give any privacy concern since many music genre recognition ML models are trained on this dataset. However, if in future we are going to train a larger model based on more data, copy right may be one of the issue related to privacy.\n",
    "\n",
    "As music creation develops, the boundries between genres get vague. More and more music have mixed styles and new genres will be created. While it makes the classification harder, classifying songs into specific genres may raise social issues at this time. Many song writeer may not be happy with their songs being classified into a specific genre. Labeling the dataset may become a harder work in the future.\n",
    "\n",
    "If a powerful MGR model is developed and used in recommendation system of music, it may cause people to have a music taste bias as the system can always find the music that fit users current taste, thus reduces the chance for user to find new types music that they may like."
   ]
  },
  {
   "cell_type": "markdown",
   "metadata": {},
   "source": [
    "# Team Expectations "
   ]
  },
  {
   "cell_type": "markdown",
   "metadata": {},
   "source": [
    "* *Weekly meetings on Sundays on general progress check*\n",
    "* *Bi-weekly quick meetings on Wednesdays before each check-point submission*\n",
    "* *Frequent discussion through online platforms (text, zoom meetings, etc.)*"
   ]
  },
  {
   "cell_type": "markdown",
   "metadata": {},
   "source": [
    "# Project Timeline Proposal"
   ]
  },
  {
   "cell_type": "markdown",
   "metadata": {},
   "source": [
    "| Meeting Date  | Meeting Time| Completed Before Meeting (all or assigned in the previous meeting)  | Discuss at Meeting (all or team member) |\n",
    "|---|---|---|---|\n",
    "| 5/14  |  7 PM |  Determine best form of communication; Brainstorm topics/questions  |  Decide on final project topic (all); discuss ideal datasets and ethics (all); do background research (Xiaoxuan) | \n",
    "| 5/16  |  10 PM |  Do background research on topic | Draft project proposal (Xiaoxuan, Jiayi) | \n",
    "| 5/17  |  6 PM |  Draft project proposal | Edit, finalize, and submit proposal (all) | \n",
    "| TBD  | 10 AM  | Search for extra datasets | Discuss Wrangling and possible analytical approaches; Assign group members to lead each specific part   |\n",
    "| TBD  | 6 PM  | Import & Wrangle Data ,do some EDA () | Review/Edit wrangling/EDA; Discuss Analysis Plan   |\n",
    "| TBD  | 12 PM  | Finalize wrangling/EDA; Begin programming for project () | Discuss/edit project code; Complete project |\n",
    "| TBD  | 12 PM  | Complete analysis; Draft results/conclusion/discussion ()| Discuss/edit full project |\n",
    "| 6/14  | Before 11:59 PM  | NA | Turn in Final Project  |"
   ]
  },
  {
   "cell_type": "markdown",
   "metadata": {},
   "source": [
    "# Footnotes\n",
    "<a name=\"gtzannote\"></a>1.[^](#gtzan): GTZAN Dataset - Music Genre Classification. https://www.kaggle.com/datasets/andradaolteanu/gtzan-dataset-music-genre-classification<br> \n",
    "\n"
   ]
  },
  {
   "cell_type": "code",
   "execution_count": null,
   "metadata": {},
   "outputs": [],
   "source": []
  }
 ],
 "metadata": {
  "kernelspec": {
   "display_name": "Python 3 (ipykernel)",
   "language": "python",
   "name": "python3"
  },
  "language_info": {
   "codemirror_mode": {
    "name": "ipython",
    "version": 3
   },
   "file_extension": ".py",
   "mimetype": "text/x-python",
   "name": "python",
   "nbconvert_exporter": "python",
   "pygments_lexer": "ipython3",
   "version": "3.9.5"
  }
 },
 "nbformat": 4,
 "nbformat_minor": 2
}
